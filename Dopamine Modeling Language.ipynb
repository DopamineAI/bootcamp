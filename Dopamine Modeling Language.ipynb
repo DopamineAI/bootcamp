{
 "cells": [
  {
   "cell_type": "markdown",
   "metadata": {},
   "source": [
    "# Dopamine Modeling Diagram Language\n",
    "In the presented examples, a developmental modeling diagram language is presented, offering a way to visualize a dopamine system's architectural blueprints in a diagram. Including elements as follows:\n",
    "\n",
    "### Reward Flow\n",
    "<img src='img/reward.png'>\n",
    "<center>Reward flow from A to B</center>\n",
    "\n",
    "### Contribution Flow\n",
    "<img src='img/burn.png'>\n",
    "<center>Contribution flow from C</center>\n",
    " \n",
    "### Data Flow\n",
    "<img src='img/data.png'>\n",
    "<center>Data flow from D to E</center>\n",
    " \n",
    "### Certificates\n",
    "<img src='img/certificate.png'>\n",
    "<center>A Dopamine Certificate J</center>\n",
    "\n",
    "### Entities and Contracts\n",
    "<img src='img/entity.png'>\n",
    "<center> An entity I, usually IP holding</center>\n",
    "<img src='img/contract.png'>\n",
    "<center> A contract H, usually among several entities</center>\n",
    "\n",
    "### Computational Processes\n",
    "\n",
    "<img src='img/ai_module_untrainable.png'>\n",
    "<center>A <B><U>Fixed Learning process</U></B> M, </center>\n",
    "<center>where m1 is its input leg,</center>\n",
    "<center>m2 is output leg, </center>\n",
    "<center>m3 is feedback about input (in deep learning case it would \n",
    "be the gradients tensor for m1), </center>\n",
    "<center>m4 is feedback about m2. </center>\n",
    "<center>Process M does not update its internal parameters.</center>\n",
    "\n",
    "<img src='img/ai_module_trainable.png'>\n",
    "<center>A <B><U>Dynamic Learning process</U></B> L, </center>\n",
    "<center>, where unlike M, it updates its internal parameters.</center>\n",
    "\n",
    "<img src='img/software_module.png'>\n",
    "<center>\n",
    "A <B><U>Computational Process</U></B> K, where k1 is input and k2 is output\n",
    "</center>\n"
   ]
  },
  {
   "cell_type": "code",
   "execution_count": null,
   "metadata": {
    "collapsed": true
   },
   "outputs": [],
   "source": []
  }
 ],
 "metadata": {
  "anaconda-cloud": {},
  "kernelspec": {
   "display_name": "Python 3",
   "language": "python",
   "name": "python3"
  },
  "language_info": {
   "codemirror_mode": {
    "name": "ipython",
    "version": 3
   },
   "file_extension": ".py",
   "mimetype": "text/x-python",
   "name": "python",
   "nbconvert_exporter": "python",
   "pygments_lexer": "ipython3",
   "version": "3.5.2"
  }
 },
 "nbformat": 4,
 "nbformat_minor": 1
}
