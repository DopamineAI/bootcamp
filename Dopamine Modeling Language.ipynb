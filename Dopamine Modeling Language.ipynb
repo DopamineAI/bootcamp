{
 "cells": [
  {
   "cell_type": "markdown",
   "metadata": {},
   "source": [
    "# Dopamine Modeling Diagram Language\n",
    "In the following examples, we present a developmental modeling diagram language, offering a way to visualize a Dopamine system's architectural blueprints in a diagram. This language includes these elements:\n",
    "\n",
    "### Reward Flow\n",
    "Reward flow from A to B:\n",
    "<img src='img/reward.png'>\n",
    "\n",
    "### Contribution Flow\n",
    "Contribution flow from C:\n",
    "<img src='img/burn.png'>\n",
    " \n",
    "### Data Flow\n",
    "Data flow from D to E:\n",
    "<img src='img/data.png'>\n",
    " \n",
    "### Certificates\n",
    "A Dopamine Certificate J:\n",
    "<img src='img/certificate.png'>\n",
    "\n",
    "### Entities and Contracts\n",
    "An entity I, usually IP holding:\n",
    "<img src='img/entity.png'>\n",
    "\n",
    "A contract H, usually among several entities:\n",
    "<img src='img/contract.png'>\n",
    "\n",
    "\n",
    "### Computational Processes\n",
    "A <B><U>Fixed Learning process</U></B> M, \n",
    "where m1 is its input leg, m2 is output leg, m3 is feedback about input (in deep learning case it would be the gradients tensor for m1), m4 is feedback about m2. Process M does not update its internal parameters:\n",
    "<img src='img/ai_module_untrainable.png'>\n",
    "\n",
    "A <B><U>Dynamic Learning process</U></B> L, where unlike M, it updates its internal parameters.\n",
    "<img src='img/ai_module_trainable.png'>\n",
    "\n",
    "A <B><U>Computational Process</U></B> K, where k1 is input and k2 is output:\n",
    "<img src='img/software_module.png'>\n"
   ]
  },
  {
   "cell_type": "code",
   "execution_count": null,
   "metadata": {
    "collapsed": true
   },
   "outputs": [],
   "source": []
  }
 ],
 "metadata": {
  "anaconda-cloud": {},
  "kernelspec": {
   "display_name": "Python 3",
   "language": "python",
   "name": "python3"
  },
  "language_info": {
   "codemirror_mode": {
    "name": "ipython",
    "version": 3
   },
   "file_extension": ".py",
   "mimetype": "text/x-python",
   "name": "python",
   "nbconvert_exporter": "python",
   "pygments_lexer": "ipython3",
   "version": "3.5.2"
  }
 },
 "nbformat": 4,
 "nbformat_minor": 1
}
