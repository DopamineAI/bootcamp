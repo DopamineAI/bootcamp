{
 "cells": [
  {
   "cell_type": "code",
   "execution_count": 1,
   "metadata": {
    "collapsed": true
   },
   "outputs": [],
   "source": [
    "from tensorflow.python.layers.convolutional import Conv2D\n",
    "from tensorflow.python.layers.pooling import MaxPooling2D\n",
    "from tensorflow.python.training.adadelta import AdadeltaOptimizer\n",
    "from tensorflow.python.training.adagrad import AdagradOptimizer\n",
    "from tensorflow.python.training.optimizer import Optimizer\n",
    "from dopapy.core.services.instance.ai.tfmodel.gradient import GradientLearningTFModelServiceInstance\n",
    "from dopapy.core.services.instance.ai.tfmodel.ilearning import ITFLearningModel\n",
    "from dopapy.utils.common.guid import GUID\n",
    "from tensorflow.contrib.eager.python.network import Network\n",
    "from tensorflow.contrib.eager.python.tfe import enable_eager_execution\n",
    "from tensorflow.python.layers.core import Dense, Dropout, Flatten\n",
    "from tensorflow.python.training.adam import AdamOptimizer\n",
    "from dopapy import *\n",
    "from dopapy.trading import *\n",
    "import dopapy.types as dd\n",
    "import warnings\n",
    "warnings.filterwarnings('ignore') #Thats just to ignore warnings that are irrelevant for this type of sample\n",
    "enable_eager_execution()\n",
    "\n",
    "class VisualCortexNetwork(Network):\n",
    "\n",
    "    def __init__(self):\n",
    "        super().__init__()\n",
    "        #self._layer = self.track_layer(Dense(units=64))\n",
    "        self.track_layer(Conv2D(filters=8, kernel_size=(3, 3)))\n",
    "        self.track_layer(MaxPooling2D(pool_size=(2, 2), strides=(1, 1)))\n",
    "        self.track_layer(Dropout(0.25))\n",
    "        self.track_layer(Flatten())\n",
    "\n",
    "    def call(self, inputs, **kwargs):\n",
    "        result = inputs\n",
    "        for layer in self.layers:\n",
    "            result = layer(result)\n",
    "        print(\"VisualCortex: {0}->{1}\".format(inputs.shape,result.shape))\n",
    "        return result\n",
    "\n",
    "class VisualCortexModel(ITFLearningModel):\n",
    "\n",
    "    def __init__(self):\n",
    "        super().__init__()\n",
    "        self._network = VisualCortexNetwork()\n",
    "        self._optimizer = AdagradOptimizer(learning_rate=1e-2)\n",
    "\n",
    "    def get_network(self) -> Network:\n",
    "        return self._network\n",
    "\n",
    "    def get_optimizer(self) -> Optimizer:\n",
    "        return self._optimizer\n",
    "\n",
    "class VisualCortexCreator(IServiceInstanceCreator):\n",
    "    def create_instance(self, service_instance_id: GUID) -> GradientLearningTFModelServiceInstance:\n",
    "        return GradientLearningTFModelServiceInstance(VisualCortexModel(), service_instance_id)\n",
    "\n",
    "\n",
    "def get_visualcortex_session():\n",
    "    print(\"preparing VisualCortex session...\")\n",
    "    in_advance = 100\n",
    "    init_logging()\n",
    "    input_descripotr = dd.TensorDescriptor(size=[-1,25,25,16], store_file_prefix=\"visualcortex\")\n",
    "    output_descriptor = dd.TensorDescriptor(size=[-1,3872])\n",
    "    reward_desc = create_reward_descriptor(min_dopamine_price=2)\n",
    "    reward_desc.add_payment(dd.RewardPaymentType.FORWARD, min_price=0, in_advance_quantity=1)\n",
    "    reward_desc.add_payment(dd.RewardPaymentType.RETURN_GRADIENT, min_price=2,\n",
    "                            in_advance_quantity=in_advance)\n",
    "    reward_desc.add_payment(dd.RewardPaymentType.UPDATE, min_price=2,\n",
    "                            in_advance_quantity=in_advance)\n",
    "    service_type = dd.ServiceType.Learning.GRADIENT\n",
    "    creator = VisualCortexCreator()\n",
    "    service_desc = dd.ServiceDescriptor(input_descriptors=[input_descripotr],\n",
    "                                                output_descriptors=[output_descriptor],\n",
    "                                                service_role=dd.ServiceRole.PROVIDER,\n",
    "                                                service_type=service_type)\n",
    "    visualcortex_session = create_session('password123456', '/data/dopamine/keystore_dir_a/',\n",
    "                                      '127.0.0.1',\n",
    "                                      int(100E18), int(10E18), web_server_port=8501)\n",
    "    visualcortex_services = create_quote_services(\n",
    "                                              session=visualcortex_session,\n",
    "                                              qty=1,\n",
    "                                              side=SELL,\n",
    "                                              service_descriptor=service_desc,\n",
    "                                              reward_descriptor=reward_desc,\n",
    "                                              service_instance_creator=creator)\n",
    "    visualcortex_services.publish()\n",
    "    print(\"Done\")\n",
    "    return visualcortex_session"
   ]
  },
  {
   "cell_type": "code",
   "execution_count": 2,
   "metadata": {
    "collapsed": false
   },
   "outputs": [
    {
     "name": "stdout",
     "output_type": "stream",
     "text": [
      "preparing VisualCortex session...\n",
      "Done\n"
     ]
    }
   ],
   "source": [
    "vs = get_visualcortex_session()"
   ]
  },
  {
   "cell_type": "code",
   "execution_count": null,
   "metadata": {
    "collapsed": true
   },
   "outputs": [],
   "source": []
  }
 ],
 "metadata": {
  "anaconda-cloud": {},
  "kernelspec": {
   "display_name": "Python 3",
   "language": "python",
   "name": "python3"
  },
  "language_info": {
   "codemirror_mode": {
    "name": "ipython",
    "version": 3
   },
   "file_extension": ".py",
   "mimetype": "text/x-python",
   "name": "python",
   "nbconvert_exporter": "python",
   "pygments_lexer": "ipython3",
   "version": "3.5.2"
  }
 },
 "nbformat": 4,
 "nbformat_minor": 1
}
