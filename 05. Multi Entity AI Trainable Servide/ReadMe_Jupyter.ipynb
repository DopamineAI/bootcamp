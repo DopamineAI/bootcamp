{
 "cells": [
  {
   "cell_type": "markdown",
   "metadata": {},
   "source": [
    "# Multi Entity AI Trainable Service"
   ]
  },
  {
   "cell_type": "markdown",
   "metadata": {},
   "source": [
    "In this sample consumer A wishes to have an image classifier for digits, \n",
    "while assuming there are three relevant AI modules out there in the ecosystem that were used in other projects:\n",
    "- A Retina module - specializing in efficiently extracting low-level features from images, owned by Entity “R”.  \n",
    "- A Visual Cortex module - specializing in efficiently extracting high level features from low level modules, owned by Entity “V”. \n",
    "- A Classifier module - specializing in providing good estimations about which class does each sample belongs toin good estimations from high level features, owned by Entity “C”.\n",
    "\n",
    "The consumer codes that she expects the data to flow in a pipeline created by these 3 entities, and state the reward she is willing to pay for that pipeline. Under the hood, the Dopamine network takes care of:\n",
    "- Reward negotiations\n",
    "- Pipeline creation\n",
    "- Matching validations\n",
    "- Efficient data flow\n",
    "- Reward book-keeping\n",
    "- And more…"
   ]
  },
  {
   "cell_type": "markdown",
   "metadata": {
    "collapsed": true
   },
   "source": [
    "<img src='../img/05_all.png'>"
   ]
  },
  {
   "cell_type": "markdown",
   "metadata": {},
   "source": [
    "# Code Samples"
   ]
  },
  {
   "cell_type": "markdown",
   "metadata": {},
   "source": [
    "- [Entity A (Client)](client.ipynb)\n",
    "- [Entity A (Retina)](retina.ipynb)\n",
    "- [Entity V (VisualCortex)](visualcortex.ipynb)\n",
    "- [Entity C (classifier)](classifier.ipynb)"
   ]
  },
  {
   "cell_type": "code",
   "execution_count": null,
   "metadata": {
    "collapsed": true
   },
   "outputs": [],
   "source": []
  }
 ],
 "metadata": {
  "anaconda-cloud": {},
  "kernelspec": {
   "display_name": "Python 3",
   "language": "python",
   "name": "python3"
  },
  "language_info": {
   "codemirror_mode": {
    "name": "ipython",
    "version": 3
   },
   "file_extension": ".py",
   "mimetype": "text/x-python",
   "name": "python",
   "nbconvert_exporter": "python",
   "pygments_lexer": "ipython3",
   "version": "3.5.2"
  }
 },
 "nbformat": 4,
 "nbformat_minor": 1
}
