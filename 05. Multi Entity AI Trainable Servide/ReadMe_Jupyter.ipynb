{
 "cells": [
  {
   "cell_type": "markdown",
   "metadata": {},
   "source": [
    "# Multi Entity AI Inference Service"
   ]
  },
  {
   "cell_type": "markdown",
   "metadata": {},
   "source": [
    "consumer A wishes to have an image classifier for digits (to all data scientists out there, my apologies. I know this classification can be done in a few lines of code, so this is is only an example) and let’s assume there are three relevant AI modules out there in the ecosystem that were used in other projects:\n",
    "A Retina module - specializing in efficiently extracting low-level features from images, owned by Entity “R”.  \n",
    "A Visual Cortex module - specializing in efficiently extracting high level features from low level modules, owned by Entity “V”. \n",
    "A Classifier module - specializing in providing good estimations about which class does each sample belongs toin good estimations from high level features, owned by Entity “C”.\n",
    "\n",
    "Each one of the above modules is assumed to be developed, optimized, and maintained by its owning entity, as represented below:\n",
    "\n",
    "Through the Dopamine network, the owning entities allow their modules to be instantiated, without revealing their internals, and trained for specific cases, in exchange for rewards. For example, entity C’s module could be used for other classification tasks, not only visual (like a voice mood detector):\n",
    "\n",
    "The other modules are equally flexible. . For example, the “Retina” module could have been used in the same way as the module C, to process images in various  image classification tasks (like face recognition), and the”visual cortex” module could have been used in other tasks that would require high level feature processing, like object detection (of road signs): \n",
    "\n",
    "\n",
    "Again, my apologies to our neurophysiologist readers, the above names are only for clarifying the speciality of each module. \n",
    "Below we illustrate how, using Dopamine, client “A” can create a “hybrid being” that uses a retina of “R”, the visual cortex of “V” and the classifier of “C”, and puts that new hybrid being to a specialized  task.\n",
    " \n",
    "Coding the monster\n",
    "In our Github, you can find the code for each one of the entities above. The code is quite simple, and mainly describes the rules and rewards every such provider expects in exchange of using its module. However, if you have not read our previous examples, like the hello-world example, we recommend starting there. Note that the vision is that each one of these modules would have a certain level of complexity and pre-optimization, which is not applied in our example. \n",
    "The code includes a simplified program for entities R, V and C. The interesting part of this code is that one of the client entity A, is able to create a similar structure to the one below and instantiates and trains a decentralized entity (blue in diagram below), all while rewarding the relevant participants via a smart contract:\n",
    "\n",
    "Surprisingly, the client side code is much simpler than we initially expected; the consumer just needs to tell the program that she expects the data to flow in a pipeline created by these 3 entities, and state the reward she is willing to pay for that pipeline. Under the hood, the Dopamine network takes care of:\n",
    "Reward negotiations\n",
    "Pipeline creation\n",
    "Matching validations\n",
    "Efficient data flow\n",
    "Reward book-keeping\n",
    "And more…\n",
    " \n",
    "We demonstrate that the “hybrid being” created by the client is able to learn:\n",
    " \n",
    "xxxdiagramxxx\n",
    "That new hybrid being is actually a decentralized neural network, which lives on the Dopamine network and rewards all of its users according to pre-agreed smart contracts. For example, whenever entity “B” (red below) asks to use this new being for classifications, it would need to reward all relevant entities, including entity A, according to the predefined smart contract: \n"
   ]
  },
  {
   "cell_type": "code",
   "execution_count": null,
   "metadata": {
    "collapsed": true
   },
   "outputs": [],
   "source": []
  }
 ],
 "metadata": {
  "anaconda-cloud": {},
  "kernelspec": {
   "display_name": "Python 3",
   "language": "python",
   "name": "python3"
  },
  "language_info": {
   "codemirror_mode": {
    "name": "ipython",
    "version": 3
   },
   "file_extension": ".py",
   "mimetype": "text/x-python",
   "name": "python",
   "nbconvert_exporter": "python",
   "pygments_lexer": "ipython3",
   "version": "3.5.2"
  }
 },
 "nbformat": 4,
 "nbformat_minor": 1
}
