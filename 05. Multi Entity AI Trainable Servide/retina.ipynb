{
 "cells": [
  {
   "cell_type": "markdown",
   "metadata": {},
   "source": [
    "# Entity \"R\" (Retina)"
   ]
  },
  {
   "cell_type": "markdown",
   "metadata": {},
   "source": [
    "Below is code of Entity \"R\", which is in control of the retina module:"
   ]
  },
  {
   "cell_type": "markdown",
   "metadata": {},
   "source": [
    "<img src='../img/sample_05_R.png'>"
   ]
  },
  {
   "cell_type": "code",
   "execution_count": 3,
   "metadata": {
    "collapsed": true
   },
   "outputs": [],
   "source": [
    "from tensorflow.python.layers.convolutional import Conv2D\n",
    "from tensorflow.python.layers.pooling import MaxPooling2D\n",
    "from tensorflow.python.training.adadelta import AdadeltaOptimizer\n",
    "from tensorflow.python.training.adagrad import AdagradOptimizer\n",
    "from tensorflow.python.training.optimizer import Optimizer\n",
    "from dopapy.core.services.instance.ai.tfmodel.gradient import GradientLearningTFModelServiceInstance\n",
    "from dopapy.core.services.instance.ai.tfmodel.ilearning import ITFLearningModel\n",
    "from dopapy.utils.common.guid import GUID\n",
    "from tensorflow.contrib.eager.python.network import Network\n",
    "from tensorflow.contrib.eager.python.tfe import enable_eager_execution\n",
    "from tensorflow.python.training.adam import AdamOptimizer\n",
    "from dopapy import *\n",
    "from dopapy.trading import *\n",
    "import dopapy.types as dd\n",
    "import warnings\n",
    "from datetime import datetime\n",
    "warnings.filterwarnings('ignore') #Thats just to ignore warnings that are irrelevant for this type of sample\n",
    "enable_eager_execution()"
   ]
  },
  {
   "cell_type": "markdown",
   "metadata": {},
   "source": [
    "Definition of network graph as a standard tensorflow Network (using tensorflow eager mode):"
   ]
  },
  {
   "cell_type": "code",
   "execution_count": 4,
   "metadata": {
    "collapsed": true
   },
   "outputs": [],
   "source": [
    "class RetinaNetwork(Network):\n",
    "\n",
    "    def __init__(self):\n",
    "        super(RetinaNetwork, self).__init__(name='RetinaNetwork')\n",
    "        self.track_layer(Conv2D(filters=16, kernel_size=(3, 3)))\n",
    "        self.track_layer(MaxPooling2D(pool_size=(2, 2), strides=(1, 1)))\n",
    "\n",
    "    def call(self, inputs, **kwargs):\n",
    "        result = inputs\n",
    "        for layer in self.layers:\n",
    "            result = layer(result)\n",
    "        return result"
   ]
  },
  {
   "cell_type": "markdown",
   "metadata": {},
   "source": [
    "Definition of model, which includes in addition to the Network also the chosen optimizer:"
   ]
  },
  {
   "cell_type": "code",
   "execution_count": 5,
   "metadata": {
    "collapsed": true
   },
   "outputs": [],
   "source": [
    "class RetinaModel(ITFLearningModel):\n",
    "\n",
    "    def __init__(self):\n",
    "        super().__init__()\n",
    "        self._network = RetinaNetwork()\n",
    "        self._optimizer = AdagradOptimizer(learning_rate=1e-2)\n",
    "\n",
    "    def get_network(self) -> Network:\n",
    "        return self._network\n",
    "\n",
    "    def get_optimizer(self) -> Optimizer:\n",
    "        return self._optimizer"
   ]
  },
  {
   "cell_type": "markdown",
   "metadata": {},
   "source": [
    "Below we define that every user creates it's own instance:"
   ]
  },
  {
   "cell_type": "code",
   "execution_count": 6,
   "metadata": {
    "collapsed": true
   },
   "outputs": [],
   "source": [
    "class RetinaCreator(IServiceInstanceCreator):\n",
    "    def create_instance(self, service_instance_id: GUID) -> GradientLearningTFModelServiceInstance:\n",
    "        return GradientLearningTFModelServiceInstance(RetinaModel(), service_instance_id)"
   ]
  },
  {
   "cell_type": "markdown",
   "metadata": {},
   "source": [
    "Creating the service and reward descriptors:"
   ]
  },
  {
   "cell_type": "code",
   "execution_count": 7,
   "metadata": {
    "collapsed": true
   },
   "outputs": [],
   "source": [
    "in_advance = 100\n",
    "init_logging()\n",
    "\n",
    "input_descripotr = dd.TensorDescriptor(size=[-1,28,28,1], store_file_prefix=\"retina\")\n",
    "output_descriptor = dd.TensorDescriptor(size=[-1,25,25,16])\n",
    "reward_desc = create_reward_descriptor(min_dopamine_price=1)\n",
    "reward_desc.add_payment(dd.RewardPaymentType.FORWARD, min_price=0, in_advance_quantity=1)\n",
    "reward_desc.add_payment(dd.RewardPaymentType.RETURN_GRADIENT, min_price=1,\n",
    "                        in_advance_quantity=in_advance)\n",
    "reward_desc.add_payment(dd.RewardPaymentType.UPDATE, min_price=2,\n",
    "                        in_advance_quantity=in_advance)\n",
    "service_type = dd.ServiceType.Learning.GRADIENT\n",
    "creator = RetinaCreator()\n",
    "service_desc = dd.ServiceDescriptor(input_descriptors=[input_descripotr],\n",
    "                                            output_descriptors=[output_descriptor],\n",
    "                                            service_role=dd.ServiceRole.PROVIDER,\n",
    "                                            service_type=service_type)\n",
    "retina_session = create_session('password123456', '/data/dopamine/keystore_dir_a/',\n",
    "                                  '127.0.0.1', int(100E18), int(10E18), web_server_port=8500)\n",
    "retina_services = create_quote_services(\n",
    "                                          session=retina_session,\n",
    "                                          qty=1,\n",
    "                                          side=SELL,\n",
    "                                          service_descriptor=service_desc,\n",
    "                                          reward_descriptor=reward_desc,\n",
    "                                          service_instance_creator=creator)"
   ]
  },
  {
   "cell_type": "markdown",
   "metadata": {},
   "source": [
    "And let the service begin..."
   ]
  },
  {
   "cell_type": "code",
   "execution_count": 8,
   "metadata": {
    "collapsed": true
   },
   "outputs": [],
   "source": [
    "retina_services.publish()"
   ]
  },
  {
   "cell_type": "code",
   "execution_count": null,
   "metadata": {
    "collapsed": true
   },
   "outputs": [],
   "source": []
  }
 ],
 "metadata": {
  "anaconda-cloud": {},
  "kernelspec": {
   "display_name": "Python 3",
   "language": "python",
   "name": "python3"
  },
  "language_info": {
   "codemirror_mode": {
    "name": "ipython",
    "version": 3
   },
   "file_extension": ".py",
   "mimetype": "text/x-python",
   "name": "python",
   "nbconvert_exporter": "python",
   "pygments_lexer": "ipython3",
   "version": "3.5.2"
  }
 },
 "nbformat": 4,
 "nbformat_minor": 1
}
