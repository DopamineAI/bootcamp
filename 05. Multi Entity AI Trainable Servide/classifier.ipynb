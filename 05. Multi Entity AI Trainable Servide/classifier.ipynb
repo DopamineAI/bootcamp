{
 "cells": [
  {
   "cell_type": "code",
   "execution_count": 1,
   "metadata": {
    "collapsed": true
   },
   "outputs": [],
   "source": [
    "from tensorflow.python import reduce_mean\n",
    "from tensorflow.python.ops.nn_ops import softmax_cross_entropy_with_logits\n",
    "from tensorflow.python.training.adadelta import AdadeltaOptimizer\n",
    "from tensorflow.python.training.adagrad import AdagradOptimizer\n",
    "from tensorflow.python.training.optimizer import Optimizer\n",
    "from dopapy.core.services.instance.ai.tfmodel.ilabeled import ITFLabeledLearningModel\n",
    "from dopapy.core.services.instance.ai.tfmodel.labeled import LabeledLearningTFModelServiceInstance\n",
    "from dopapy.utils.common.guid import GUID\n",
    "from tensorflow.contrib.eager.python.network import Network\n",
    "from tensorflow.contrib.eager.python.tfe import enable_eager_execution\n",
    "from tensorflow.python.layers.core import Dense, Dropout, Flatten\n",
    "from dopapy import *\n",
    "from dopapy.trading import *\n",
    "import dopapy.types as dd\n",
    "import warnings\n",
    "import tensorflow as tf\n",
    "from tensorflow.contrib.eager.python import tfe\n",
    "\n",
    "warnings.filterwarnings('ignore') #Thats just to ignore warnings that are irrelevant for this type of sample\n",
    "enable_eager_execution()\n",
    "\n",
    "class ClassifierNetwork(Network):\n",
    "\n",
    "    def __init__(self):\n",
    "        super().__init__()\n",
    "        self.track_layer(Dense(units=32))\n",
    "        self.track_layer(Dense(units=10))\n",
    "\n",
    "    def call(self, inputs, **kwargs):\n",
    "        result = inputs\n",
    "        for layer in self.layers:\n",
    "            result = layer(result)\n",
    "        print(\"Classifier: {0}->{1}\".format(inputs.shape, result.shape))\n",
    "        return result\n",
    "\n",
    "\n",
    "class ClassifierModel(ITFLabeledLearningModel):\n",
    "\n",
    "    def __init__(self):\n",
    "        super().__init__()\n",
    "        #self.graph = tfe.IsolateTest()\n",
    "        #with self.graph.as_default():\n",
    "        #with self.graph:\n",
    "        self._network = ClassifierNetwork()\n",
    "        self._optimizer = AdagradOptimizer(learning_rate=1e-2)\n",
    "\n",
    "    def get_network(self) -> Network:\n",
    "        return self._network\n",
    "\n",
    "    def get_optimizer(self) -> Optimizer:\n",
    "        return self._optimizer\n",
    "\n",
    "    def loss_function(self, input_data, labels):\n",
    "        y_ = self._network.call(input_data)\n",
    "        loss = softmax_cross_entropy_with_logits(labels=labels, logits=y_)\n",
    "        loss = reduce_mean(loss)\n",
    "        return loss\n",
    "\n",
    "class ClassifierCreator(IServiceInstanceCreator):\n",
    "    def create_instance(self, service_instance_id: GUID) -> LabeledLearningTFModelServiceInstance:\n",
    "        return LabeledLearningTFModelServiceInstance(ClassifierModel(), service_instance_id)\n",
    "\n",
    "\n",
    "def get_classifier_session():\n",
    "    print (\"Preparing classifier session...\")\n",
    "    init_logging()\n",
    "    in_advance = 100\n",
    "    classifier_session = create_session('password123456', '/data/dopamine/keystore_dir_b/', '127.0.0.1',\n",
    "                                      int(100E18), int(10E18), web_server_port=8502)\n",
    "    input_descripotr = dd.TensorDescriptor(size=[-1,3872], store_file_prefix=\"provider_%s\" % 2)\n",
    "    output_descriptor = dd.TensorDescriptor(size=[-1,10])\n",
    "    reward_desc = create_reward_descriptor(min_dopamine_price=3)\n",
    "    reward_desc.add_payment(dd.RewardPaymentType.FORWARD, min_price=0, in_advance_quantity=1)\n",
    "    reward_desc.add_payment(dd.RewardPaymentType.RETURN_GRADIENT, min_price=3,\n",
    "                            in_advance_quantity=in_advance)\n",
    "    reward_desc.add_payment(dd.RewardPaymentType.UPDATE, min_price=3,\n",
    "                            in_advance_quantity=in_advance)\n",
    "\n",
    "    creator = ClassifierCreator()\n",
    "    service_type = dd.ServiceType.Learning.LABELED\n",
    "    service_desc = dd.ServiceDescriptor(input_descriptors=[input_descripotr],\n",
    "                                        output_descriptors=[output_descriptor],\n",
    "                                        service_role=dd.ServiceRole.PROVIDER,\n",
    "                                        service_type=service_type)\n",
    "    calssifier_services = create_quote_services(\n",
    "        session=classifier_session,\n",
    "        qty=1,\n",
    "        side=SELL,\n",
    "        service_descriptor=service_desc,\n",
    "        reward_descriptor=reward_desc,\n",
    "        service_instance_creator=creator,\n",
    "        quote_id=5)\n",
    "    calssifier_services.publish()\n",
    "    print (\"Done\")\n",
    "    return classifier_session"
   ]
  },
  {
   "cell_type": "code",
   "execution_count": 2,
   "metadata": {
    "collapsed": false
   },
   "outputs": [
    {
     "name": "stdout",
     "output_type": "stream",
     "text": [
      "Preparing classifier session...\n",
      "Done\n"
     ]
    }
   ],
   "source": [
    "with tfe.IsolateTest():\n",
    "    cs = get_classifier_session()"
   ]
  },
  {
   "cell_type": "code",
   "execution_count": null,
   "metadata": {
    "collapsed": true
   },
   "outputs": [],
   "source": []
  }
 ],
 "metadata": {
  "anaconda-cloud": {},
  "kernelspec": {
   "display_name": "Python 3",
   "language": "python",
   "name": "python3"
  },
  "language_info": {
   "codemirror_mode": {
    "name": "ipython",
    "version": 3
   },
   "file_extension": ".py",
   "mimetype": "text/x-python",
   "name": "python",
   "nbconvert_exporter": "python",
   "pygments_lexer": "ipython3",
   "version": "3.5.2"
  }
 },
 "nbformat": 4,
 "nbformat_minor": 1
}
