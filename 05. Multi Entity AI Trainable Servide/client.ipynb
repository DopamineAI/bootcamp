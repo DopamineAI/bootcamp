{
 "cells": [
  {
   "cell_type": "code",
   "execution_count": null,
   "metadata": {
    "collapsed": false
   },
   "outputs": [
    {
     "name": "stdout",
     "output_type": "stream",
     "text": [
      "Extracting /data/mnist/train-images-idx3-ubyte.gz\n",
      "Extracting /data/mnist/train-labels-idx1-ubyte.gz\n",
      "Extracting /data/mnist/t10k-images-idx3-ubyte.gz\n",
      "Extracting /data/mnist/t10k-labels-idx1-ubyte.gz\n",
      "step (0) - *******************************************  accuracy : 0.078\n"
     ]
    }
   ],
   "source": [
    "from dopapy.core.services.proxy.iservice import IServiceProxy\n",
    "from numpy import ndarray\n",
    "from dopapy import *\n",
    "from dopapy.trading import *\n",
    "import dopapy.types as dd\n",
    "import numpy as np\n",
    "from tensorflow.examples.tutorials.mnist import input_data\n",
    "import warnings\n",
    "warnings.filterwarnings('ignore') #Thats just to ignore warnings that are irrelevant for this type of sample\n",
    "\n",
    "   \n",
    "n = 100\n",
    "init_logging()\n",
    "mnist = input_data.read_data_sets(\"/data/mnist/\", one_hot=True)\n",
    "\n",
    "\n",
    "retina_service_desc = dd.ServiceDescriptor(input_descriptors=[dd.TensorDescriptor(size=[-1,28,28,1], store_file_prefix=\"consumer1\")],\n",
    "                                             service_role=dd.ServiceRole.CONSUMER,\n",
    "                                             service_type=dd.ServiceType.Learning.GRADIENT,\n",
    "                                             remote_sources=[get_counter_quote('https://127.0.0.1:8500', 0)])\n",
    "\n",
    "v1_service_desc = dd.ServiceDescriptor(input_descriptors=[retina_service_desc],\n",
    "                                             service_role=dd.ServiceRole.CONSUMER,\n",
    "                                             service_type=dd.ServiceType.Learning.GRADIENT,\n",
    "                                             remote_sources=[get_counter_quote('https://127.0.0.1:8501', 0)])\n",
    "\n",
    "classifier_service_desc = dd.ServiceDescriptor(input_descriptors=[v1_service_desc],\n",
    "                                             output_descriptors=[dd.TensorDescriptor(size=[-1,10])],\n",
    "                                             service_role=dd.ServiceRole.CONSUMER,\n",
    "                                             service_type= dd.ServiceType.Learning.LABELED,\n",
    "                                             remote_sources=[get_counter_quote( \"https://127.0.0.1:8502\", 5)])\n",
    "\n",
    "consumer_session = create_session('password123456', '/data/dopamine/keystore_dir_a/', '127.0.0.1',\n",
    "                                  int(100E18), int(10E18), web_server_port=8503)\n",
    "\n",
    "consumer_reward_desc = create_reward_descriptor(min_gas_price=int(400E9),max_dopamine_price=1000)\n",
    "consumer_reward_desc.add_payment(dd.RewardPaymentType.FORWARD, min_price=int(0), in_advance_quantity=1)\n",
    "consumer_reward_desc.add_payment(dd.RewardPaymentType.RETURN_GRADIENT, min_price=20,in_advance_quantity=n)\n",
    "consumer_reward_desc.add_payment(dd.RewardPaymentType.UPDATE, min_price=30,in_advance_quantity=n)\n",
    "\n",
    "consumer_services = create_quote_services(\n",
    "    session=consumer_session,\n",
    "    qty=1,\n",
    "    side=BUY,\n",
    "    service_descriptor=classifier_service_desc,\n",
    "    reward_descriptor=consumer_reward_desc)\n",
    "service = consumer_services.create_service()\n",
    "batch_size = 500\n",
    "\n",
    "\n",
    "def print_accuracy(multi_service: IServiceProxy, x: ndarray, y: ndarray, step):\n",
    "    predict = np.argmax(multi_service.call(dd.Tensor(x)).n_array, 1)\n",
    "    target = np.argmax(y, 1)\n",
    "    accuracy = np.sum(predict == target)/len(target)\n",
    "    print( \"step ({0}) - *******************************************  accuracy : {1}\".format(step,accuracy))\n",
    "\n",
    "\n",
    "for step in range(n):\n",
    "    batch_data, batch_label = mnist.train.next_batch(batch_size)\n",
    "    batch_data = batch_data.reshape(batch_size, 28, 28, 1)\n",
    "    print_accuracy(service, batch_data, batch_label, step)\n",
    "    service.train([batch_data], [batch_label], True, True)\n",
    "\n"
   ]
  },
  {
   "cell_type": "code",
   "execution_count": null,
   "metadata": {
    "collapsed": true
   },
   "outputs": [],
   "source": []
  }
 ],
 "metadata": {
  "anaconda-cloud": {},
  "kernelspec": {
   "display_name": "Python 3",
   "language": "python",
   "name": "python3"
  },
  "language_info": {
   "codemirror_mode": {
    "name": "ipython",
    "version": 3
   },
   "file_extension": ".py",
   "mimetype": "text/x-python",
   "name": "python",
   "nbconvert_exporter": "python",
   "pygments_lexer": "ipython3",
   "version": "3.5.2"
  }
 },
 "nbformat": 4,
 "nbformat_minor": 1
}
