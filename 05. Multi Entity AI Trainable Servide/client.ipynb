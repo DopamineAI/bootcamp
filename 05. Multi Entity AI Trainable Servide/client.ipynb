{
 "cells": [
  {
   "cell_type": "markdown",
   "metadata": {},
   "source": [
    "# Entity A (Client)"
   ]
  },
  {
   "cell_type": "markdown",
   "metadata": {},
   "source": [
    "Below is code of entity \"A\", which instantiates the whole pipeline:"
   ]
  },
  {
   "cell_type": "markdown",
   "metadata": {},
   "source": [
    "<img src='../img/sample_05_A.png'>"
   ]
  },
  {
   "cell_type": "code",
   "execution_count": 1,
   "metadata": {
    "collapsed": false
   },
   "outputs": [],
   "source": [
    "from dopapy.core.services.proxy.iservice import IServiceProxy\n",
    "from numpy import ndarray\n",
    "from dopapy import *\n",
    "from dopapy.trading import *\n",
    "import dopapy.types as dd\n",
    "import numpy as np\n",
    "from tensorflow.examples.tutorials.mnist import input_data\n",
    "import warnings\n",
    "from datetime import datetime\n",
    "warnings.filterwarnings('ignore') #Thats just to ignore warnings that are irrelevant for this type of sample\n",
    "\n",
    "n = 100\n",
    "\n",
    "init_logging()"
   ]
  },
  {
   "cell_type": "markdown",
   "metadata": {},
   "source": [
    "Download mnist data for training:"
   ]
  },
  {
   "cell_type": "code",
   "execution_count": 2,
   "metadata": {
    "collapsed": false
   },
   "outputs": [
    {
     "name": "stdout",
     "output_type": "stream",
     "text": [
      "Extracting /data/mnist/train-images-idx3-ubyte.gz\n",
      "Extracting /data/mnist/train-labels-idx1-ubyte.gz\n",
      "Extracting /data/mnist/t10k-images-idx3-ubyte.gz\n",
      "Extracting /data/mnist/t10k-labels-idx1-ubyte.gz\n"
     ]
    }
   ],
   "source": [
    "mnist = input_data.read_data_sets(\"/data/mnist/\", one_hot=True)"
   ]
  },
  {
   "cell_type": "markdown",
   "metadata": {},
   "source": [
    "Refer to each of the 3 services, while creating a pipeline of flow:"
   ]
  },
  {
   "cell_type": "code",
   "execution_count": 3,
   "metadata": {
    "collapsed": false
   },
   "outputs": [],
   "source": [
    "retina_service_desc = dd.ServiceDescriptor(input_descriptors=[dd.TensorDescriptor(size=[-1,28,28,1], store_file_prefix=\"consumer1\")],\n",
    "                                             service_role=dd.ServiceRole.CONSUMER,\n",
    "                                             service_type=dd.ServiceType.Learning.GRADIENT,\n",
    "                                             remote_sources=[get_counter_quote('https://127.0.0.1:8500', 0)])\n",
    "v1_service_desc = dd.ServiceDescriptor(input_descriptors=[retina_service_desc],\n",
    "                                             service_role=dd.ServiceRole.CONSUMER,\n",
    "                                             service_type=dd.ServiceType.Learning.GRADIENT,\n",
    "                                             remote_sources=[get_counter_quote('https://127.0.0.1:8501', 0)])\n",
    "classifier_service_desc = dd.ServiceDescriptor(input_descriptors=[v1_service_desc],\n",
    "                                             output_descriptors=[dd.TensorDescriptor(size=[-1,10])],\n",
    "                                             service_role=dd.ServiceRole.CONSUMER,\n",
    "                                             service_type= dd.ServiceType.Learning.LABELED,\n",
    "                                             remote_sources=[get_counter_quote( \"https://127.0.0.1:8502\", 5)])"
   ]
  },
  {
   "cell_type": "markdown",
   "metadata": {},
   "source": [
    "Tell how much are you willing to pay for using the service:"
   ]
  },
  {
   "cell_type": "code",
   "execution_count": 4,
   "metadata": {
    "collapsed": true
   },
   "outputs": [],
   "source": [
    "consumer_session = create_session('password123456', '/data/dopamine/keystore_dir_a/', '127.0.0.1',\n",
    "                                  int(100E18), int(10E18), web_server_port=8503)\n",
    "\n",
    "consumer_reward_desc = create_reward_descriptor(min_gas_price=int(400E9),max_dopamine_price=1000)\n",
    "consumer_reward_desc.add_payment(dd.RewardPaymentType.FORWARD, min_price=int(0), in_advance_quantity=1)\n",
    "consumer_reward_desc.add_payment(dd.RewardPaymentType.RETURN_GRADIENT, min_price=20,in_advance_quantity=n)\n",
    "consumer_reward_desc.add_payment(dd.RewardPaymentType.UPDATE, min_price=30,in_advance_quantity=n)"
   ]
  },
  {
   "cell_type": "markdown",
   "metadata": {},
   "source": [
    "Instatiate the pipeline:"
   ]
  },
  {
   "cell_type": "code",
   "execution_count": 5,
   "metadata": {
    "collapsed": true
   },
   "outputs": [],
   "source": [
    "consumer_services = create_quote_services(\n",
    "    session=consumer_session,\n",
    "    qty=1,\n",
    "    side=BUY,\n",
    "    service_descriptor=classifier_service_desc,\n",
    "    reward_descriptor=consumer_reward_desc)\n",
    "service = consumer_services.create_service()"
   ]
  },
  {
   "cell_type": "markdown",
   "metadata": {},
   "source": [
    "Definition of accuracy measure:"
   ]
  },
  {
   "cell_type": "code",
   "execution_count": 6,
   "metadata": {
    "collapsed": true
   },
   "outputs": [],
   "source": [
    "def get_accuracy(multi_service: IServiceProxy, x: ndarray, y: ndarray):\n",
    "    predict = np.argmax(multi_service.call(dd.Tensor(x)).n_array, 1)\n",
    "    target = np.argmax(y, 1)\n",
    "    return np.sum(predict == target)/len(target)    "
   ]
  },
  {
   "cell_type": "markdown",
   "metadata": {},
   "source": [
    "Training loop of the instatiated pipeline:"
   ]
  },
  {
   "cell_type": "code",
   "execution_count": 7,
   "metadata": {
    "collapsed": false
   },
   "outputs": [],
   "source": [
    "batch_size = 500\n",
    "accuracies = []\n",
    "for step in range(1):\n",
    "    batch_data, batch_label = mnist.train.next_batch(batch_size)\n",
    "    batch_data = batch_data.reshape(batch_size, 28, 28, 1)          \n",
    "    service.train([batch_data], [batch_label], True, True)    \n",
    "    accuracy = get_accuracy(service, batch_data, batch_label)\n",
    "    #print( \"step ({0}) - accuracy : {1}\".format(step,accuracy))\n",
    "    accuracies += [accuracy]"
   ]
  },
  {
   "cell_type": "markdown",
   "metadata": {},
   "source": [
    "Plotting the learning graph:"
   ]
  },
  {
   "cell_type": "code",
   "execution_count": 8,
   "metadata": {
    "collapsed": false
   },
   "outputs": [],
   "source": [
    "import matplotlib.pyplot as plt    \n",
    "plt.figure()\n",
    "plt.plot(accuracies)\n",
    "plt.xlabel('steps')\n",
    "plt.ylabel('accuracy')\n",
    "plt.show()"
   ]
  },
  {
   "cell_type": "markdown",
   "metadata": {
    "collapsed": true
   },
   "source": [
    "<img src='../img/sample_05_learningrate.png'>"
   ]
  },
  {
   "cell_type": "code",
   "execution_count": null,
   "metadata": {
    "collapsed": true
   },
   "outputs": [],
   "source": []
  }
 ],
 "metadata": {
  "anaconda-cloud": {},
  "kernelspec": {
   "display_name": "Python 3",
   "language": "python",
   "name": "python3"
  },
  "language_info": {
   "codemirror_mode": {
    "name": "ipython",
    "version": 3
   },
   "file_extension": ".py",
   "mimetype": "text/x-python",
   "name": "python",
   "nbconvert_exporter": "python",
   "pygments_lexer": "ipython3",
   "version": "3.5.2"
  }
 },
 "nbformat": 4,
 "nbformat_minor": 1
}
