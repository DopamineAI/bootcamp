{
 "cells": [
  {
   "cell_type": "markdown",
   "metadata": {},
   "source": [
    "# Dopamine Python API Code Samples"
   ]
  },
  {
   "cell_type": "markdown",
   "metadata": {},
   "source": [
    "Here, we present several simple examples for using dopapy: "
   ]
  },
  {
   "cell_type": "markdown",
   "metadata": {},
   "source": [
    "<img src=\"img/dopamine-transparent-cut.png\" height=200 width=200>"
   ]
  },
  {
   "cell_type": "markdown",
   "metadata": {},
   "source": [
    "## Samples Structure\n",
    "Typically, every use case would be located in its own directory. A ReadMe file would explain generally what's going on in the use case. Some of the explanations are based on our graphic modeling language, that is explained [here](Dopamine Modeling Language.ipynb).\n",
    "\n",
    "## Samples List\n",
    "- [Sample 1](01. Simple Image Trade/Readme_jupyter.ipynb): Trading an image\n",
    "- [Sample 2](02. Single Entity AI Inference Service/ReadMe_jupyter.ipynb): Inference service, single entity\n",
    "- [Sample 3](https://github.com/DopamineAI/bootcamp/blob/master/03.%20Training%20Service:%20Single%20Entity%20%2CNo%20certificates/ReadMe_Jupyter.ipynb): Teaching service, single entity\n",
    "- [Sample 4](https://github.com/DopamineAI/bootcamp/tree/master/04.%20Decentralized%20AutoML%20Service): Transfer Learning\n",
    "\n",
    "\n",
    "## Prerequisits\n",
    "### OS\n",
    "Currently supported OS is [Linux CentOS](https://www.centos.org/download/) only \n",
    "### python\n",
    "[Python 3.5.0](https://www.python.org/downloads/release/python-350/)\n",
    "### dopapy\n",
    "(not available yet for installation)\n",
    "### nodejs \n",
    "see [here](https://www.e2enetworks.com/help/knowledge-base/how-to-install-node-js-and-npm-on-centos/) installation instructions\n",
    "### openssl \n",
    "see [here](http://dev.antoinesolutions.com/openssl) installation instructions\n",
    "### solc\n",
    "see [here](https://solidity.readthedocs.io/en/v0.3.4/installing-solidity.html) installation instructions\n",
    "### Tokens\n",
    "For running the samples you will need DOPA & ETHER tokens. You can create a keystore directory and put keystore files there. You can create this directory in https://www.myetherwallet.com/ "
   ]
  },
  {
   "cell_type": "code",
   "execution_count": null,
   "metadata": {
    "collapsed": true
   },
   "outputs": [],
   "source": []
  }
 ],
 "metadata": {
  "anaconda-cloud": {},
  "kernelspec": {
   "display_name": "Python 3",
   "language": "python",
   "name": "python3"
  },
  "language_info": {
   "codemirror_mode": {
    "name": "ipython",
    "version": 3
   },
   "file_extension": ".py",
   "mimetype": "text/x-python",
   "name": "python",
   "nbconvert_exporter": "python",
   "pygments_lexer": "ipython3",
   "version": "3.5.2"
  }
 },
 "nbformat": 4,
 "nbformat_minor": 1
}
