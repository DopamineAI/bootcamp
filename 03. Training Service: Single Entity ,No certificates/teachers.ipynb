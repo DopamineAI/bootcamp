{
 "cells": [
  {
   "cell_type": "markdown",
   "metadata": {
    "collapsed": true
   },
   "source": [
    "# Teachers side"
   ]
  },
  {
   "cell_type": "markdown",
   "metadata": {},
   "source": [
    "Below is code for a teacher, every teacher has it's own wallet and it's own data (also taken from MNIST database). \n",
    "Note that the teachers are not aware of the internals of the student (it's NN model used), but may still try do better job by having more high quality data. Even if  a teacher has less original data, it might use different techniques, like data augmentation, that would result in better score for the student, and better reward for the teacher."
   ]
  },
  {
   "cell_type": "code",
   "execution_count": 1,
   "metadata": {
    "collapsed": false
   },
   "outputs": [],
   "source": [
    "import dopapy\n",
    "import dopapy.trading as dp\n",
    "import dopapy.types as dd\n",
    "from dopapy.core.services.instance.iservice import ILabeledLearningServiceInstance\n",
    "import numpy as np\n",
    "import os\n",
    "import warnings\n",
    "from mnist import MnistData\n",
    "\n",
    "warnings.filterwarnings('ignore') #Thats just to ignore warnings that are irrelevant for this type of sample\n",
    "\n",
    "class Teacher(object):\n",
    "    def __init__(self, port, from_sample, to_sample, name):\n",
    "        mnist_data = MnistData(from_sample,to_sample)        \n",
    "        self.x_train = mnist_data.x_train\n",
    "        self.y_train = mnist_data.y_train\n",
    "        self.name = name\n",
    "        self.port = port\n",
    "        \n",
    "    def teach(self):\n",
    "        print(\"Teacher {0} started teaching.\".format(self.name))\n",
    "        session = dp.create_session(master_password='password123456',\n",
    "                                    keystore_dir='/data/dopamine/keystore_dir_a/',\n",
    "                                    web_server_host=\"127.0.0.1\",\n",
    "                                    web_server_port=self.port,\n",
    "                                    dopmn_budget=10000,\n",
    "                                    ether_budget=int(10E18))\n",
    "        counter_quote = dp.get_counter_quote(url=\"https://127.0.0.1:8007\", quote_id=0)\n",
    "        my_service_descriptor = dd.ServiceDescriptor(\n",
    "            service_role=dd.ServiceRole.CONSUMER,\n",
    "            input_descriptors=[dd.TensorDescriptor([-1,28,28,1])],\n",
    "            output_descriptors=[dd.TensorDescriptor([-1])],\n",
    "            service_type=dd.ServiceType.Learning.LABELED,\n",
    "            remote_sources=[counter_quote]\n",
    "        )\n",
    "        reward_desc = dp.create_reward_descriptor(max_dopamine_price=10)\n",
    "        reward_desc.add_payment(dd.RewardPaymentType.UPDATE, max_price=20)\n",
    "        reward_desc.add_payment(dd.RewardPaymentType.FORWARD, max_price=0)\n",
    "        quote = dp.create_quote_services(\n",
    "            session=session,\n",
    "            service_descriptor=my_service_descriptor,\n",
    "            side=dp.BUY,\n",
    "            reward_descriptor=reward_desc)\n",
    "        student = quote.get_service()        \n",
    "        student.train(input_objects= [dd.Tensor(self.x_train)], labels= [dd.Tensor(self.y_train)])\n",
    "        print(\"Done\")"
   ]
  },
  {
   "cell_type": "code",
   "execution_count": 2,
   "metadata": {
    "collapsed": true
   },
   "outputs": [],
   "source": [
    "dopapy.init_logging()"
   ]
  },
  {
   "cell_type": "markdown",
   "metadata": {},
   "source": [
    "We have here 5 different teachers:\n",
    "- Teacher \"A\", who is the first teacher with 10K unique data samples\n",
    "- Teacher \"B\", who is the second one. With 10K unique data samples too\n",
    "- Teacher \"C\", who has more data samples than the previous ones\n",
    "- Teacher \"D\", who is the last teacher"
   ]
  },
  {
   "cell_type": "code",
   "execution_count": 3,
   "metadata": {
    "collapsed": true
   },
   "outputs": [],
   "source": [
    "teachers = \\\n",
    "[Teacher(8008, 0,     10000, \"A\")\n",
    ",Teacher(8009, 10001, 20000, \"B\")\n",
    ",Teacher(8010, 20001, 50000, \"C\")\n",
    ",Teacher(8011, 50001, 60000, \"D\")]"
   ]
  },
  {
   "cell_type": "markdown",
   "metadata": {},
   "source": [
    "And let the school begin:"
   ]
  },
  {
   "cell_type": "code",
   "execution_count": 4,
   "metadata": {
    "collapsed": false
   },
   "outputs": [
    {
     "name": "stdout",
     "output_type": "stream",
     "text": [
      "Teacher A started teaching.\n",
      "Done\n",
      "Teacher B started teaching.\n",
      "Done\n",
      "Teacher C started teaching.\n",
      "Done\n",
      "Teacher D started teaching.\n",
      "Done\n"
     ]
    }
   ],
   "source": [
    "for t in teachers:\n",
    "    t.teach()"
   ]
  },
  {
   "cell_type": "code",
   "execution_count": null,
   "metadata": {
    "collapsed": true
   },
   "outputs": [],
   "source": []
  }
 ],
 "metadata": {
  "anaconda-cloud": {},
  "kernelspec": {
   "display_name": "Python 3",
   "language": "python",
   "name": "python3"
  },
  "language_info": {
   "codemirror_mode": {
    "name": "ipython",
    "version": 3
   },
   "file_extension": ".py",
   "mimetype": "text/x-python",
   "name": "python",
   "nbconvert_exporter": "python",
   "pygments_lexer": "ipython3",
   "version": "3.5.2"
  }
 },
 "nbformat": 4,
 "nbformat_minor": 1
}
